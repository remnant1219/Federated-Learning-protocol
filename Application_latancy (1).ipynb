{
 "cells": [
  {
   "cell_type": "code",
   "execution_count": null,
   "id": "3627dff0",
   "metadata": {},
   "outputs": [],
   "source": [
    "import socket\n",
    "import os\n",
    "import time\n",
    "import pandas as pd\n",
    "import re\n",
    "import struct"
   ]
  },
  {
   "cell_type": "code",
   "execution_count": null,
   "id": "5a304ff6",
   "metadata": {},
   "outputs": [],
   "source": [
    "class Client:\n",
    "    def __init__(self, ipaddr, port, mea_number):\n",
    "        self.s = socket.socket(socket.AF_INET,socket.SOCK_STREAM)\n",
    "        self.target_ip = ipaddr\n",
    "        self.target_port = port\n",
    "        self.mea_number = mea_number\n",
    "        self.connect_to_server()\n",
    "        \n",
    "        #print(target_ip, target_port)\n",
    "    def connect_to_server(self):\n",
    "        #self.target_ip = '34.135.126.137'\n",
    "        #self.target_port = '6000'\n",
    "\n",
    "        self.s.connect((self.target_ip,int(self.target_port)))\n",
    "\n",
    "        self.main()\n",
    "\n",
    "    def reconnect(self):\n",
    "        self.s = socket.socket(socket.AF_INET,socket.SOCK_STREAM)\n",
    "        self.s.connect((self.target_ip,int(self.target_port)))\n",
    "\n",
    "    def main(self):\n",
    "        mea_number = self.mea_number\n",
    "        whole_process_time = list(0 for j in range(0,mea_number))\n",
    "        compute_time = list(0 for j in range(0,mea_number))\n",
    "        #latancy = list(0 for j in range(0,mea_number))        \n",
    "        for i in range(0,mea_number):\n",
    "            t3 = time.time()\n",
    "            file_name = \"vehcile.crt\"\n",
    "            self.s.send(file_name.encode())\n",
    "\n",
    "            msg = self.s.recv(1024)\n",
    "            confirmation = str(msg)\n",
    "            #if \"OK\" in confirmation:\n",
    "            #    print(\"Certificate validation\")\n",
    "            #    \n",
    "            #elif \"error\" in confirmation:\n",
    "            #    print(\"Certificate validation is failed: %s\" %(confirmation))\n",
    "            verify_time = self.s.recv(1024)\n",
    "            self.s.shutdown(socket.SHUT_RDWR)\n",
    "            self.s.close()\n",
    "            self.reconnect()\n",
    "            t4 = time.time()\n",
    "            whole_process_time[i] = t4 - t3\n",
    "            compute_time[i] = verify_time.decode('utf-8')\n",
    "            #print(type(compute_time),compute_time)\n",
    "            #print(type(compute_time[i]))\n",
    "            #print(type(whole_process_time),whole_process_time)\n",
    "            #latancy[i]= whole_process_time[i] - compute_time[i]\n",
    "        #print(whole_process_time)\n",
    "        #print(compute_time)\n",
    "        #print(latancy)\n",
    "        return compute_time, whole_process_time"
   ]
  },
  {
   "cell_type": "code",
   "execution_count": null,
   "id": "f68f508e",
   "metadata": {},
   "outputs": [],
   "source": [
    "ipaddr = '34.135.126.137'#Iowa\n",
    "port = '5000'\n",
    "mea_number = 100\n",
    "client = Client(ipaddr ,port, mea_number)\n",
    "#latancy = list(0 for j in range(0,mea_number)) \n",
    "data = client.main()\n",
    "compete_time = pd.DataFrame(data)\n",
    "compete_time.to_csv('Iowa.csv')"
   ]
  },
  {
   "cell_type": "code",
   "execution_count": null,
   "id": "d0efd245",
   "metadata": {},
   "outputs": [],
   "source": [
    "ipaddr = '34.127.83.108'#Oregon\n",
    "port = '5000'\n",
    "mea_number = 10\n",
    "client = Client(ipaddr ,port, mea_number)\n",
    "#latancy = list(0 for j in range(0,mea_number)) \n",
    "data = client.main()\n",
    "compete_time = pd.DataFrame(data)\n",
    "compete_time.to_csv('Oregon.csv')"
   ]
  },
  {
   "cell_type": "code",
   "execution_count": null,
   "id": "478617a1",
   "metadata": {},
   "outputs": [],
   "source": [
    "ipaddr = '34.150.251.97'#Virginia\n",
    "port = '5000'\n",
    "mea_number = 100\n",
    "client = Client(ipaddr ,port, mea_number)\n",
    "#latancy = list(0 for j in range(0,mea_number)) \n",
    "data = client.main()\n",
    "compete_time = pd.DataFrame(data)\n",
    "compete_time.to_csv('virginia.csv')"
   ]
  },
  {
   "cell_type": "code",
   "execution_count": null,
   "id": "a8b225df",
   "metadata": {},
   "outputs": [],
   "source": [
    "ipaddr = '34.102.29.191'#LA\n",
    "port = '5000'\n",
    "mea_number = 100\n",
    "client = Client(ipaddr ,port, mea_number)\n",
    "#latancy = list(0 for j in range(0,mea_number)) \n",
    "data = client.main()\n",
    "compete_time = pd.DataFrame(data)\n",
    "compete_time.to_csv('LA.csv')"
   ]
  },
  {
   "cell_type": "code",
   "execution_count": null,
   "id": "945513ce",
   "metadata": {},
   "outputs": [],
   "source": [
    "ipaddr = '34.138.22.2'#Carolina\n",
    "port = '5000'\n",
    "mea_number = 100\n",
    "client = Client(ipaddr ,port, mea_number)\n",
    "#latancy = list(0 for j in range(0,mea_number)) \n",
    "data = client.main()\n",
    "compete_time = pd.DataFrame(data)\n",
    "compete_time.to_csv('Carolina.csv')"
   ]
  },
  {
   "cell_type": "code",
   "execution_count": null,
   "id": "253ceb2d",
   "metadata": {},
   "outputs": [],
   "source": [
    "ipaddr = '35.197.179.168'#Sydney\n",
    "port = '5000'\n",
    "mea_number = 10\n",
    "client = Client(ipaddr ,port, mea_number)\n",
    "#latancy = list(0 for j in range(0,mea_number)) \n",
    "data = client.main()\n",
    "compete_time = pd.DataFrame(data)\n",
    "compete_time.to_csv('Sydney.csv')"
   ]
  },
  {
   "cell_type": "code",
   "execution_count": null,
   "id": "18c22868",
   "metadata": {},
   "outputs": [],
   "source": [
    "ipaddr = '35.240.184.71'#Singapore\n",
    "port = '5000'\n",
    "mea_number = 10\n",
    "client = Client(ipaddr ,port, mea_number)\n",
    "#latancy = list(0 for j in range(0,mea_number)) \n",
    "data = client.main()\n",
    "compete_time = pd.DataFrame(data)\n",
    "compete_time.to_csv('Singapore.csv')"
   ]
  },
  {
   "cell_type": "code",
   "execution_count": null,
   "id": "1cb2c07f",
   "metadata": {},
   "outputs": [],
   "source": [
    "ipaddr = '34.64.99.193'#Seoul\n",
    "mea_number = 10\n",
    "client = Client(ipaddr ,port, mea_number)\n",
    "#latancy = list(0 for j in range(0,mea_number)) \n",
    "data = client.main()\n",
    "compete_time = pd.DataFrame(data)\n",
    "compete_time.to_csv('Seoul.csv')"
   ]
  },
  {
   "cell_type": "code",
   "execution_count": null,
   "id": "4c091861",
   "metadata": {},
   "outputs": [],
   "source": [
    "ipaddr = '35.198.55.171'#Sao Paulo\n",
    "port = '5000'\n",
    "mea_number = 10\n",
    "client = Client(ipaddr ,port, mea_number)\n",
    "#latancy = list(0 for j in range(0,mea_number)) \n",
    "data = client.main()\n",
    "compete_time = pd.DataFrame(data)\n",
    "compete_time.to_csv('SaoPaulo.csv')"
   ]
  },
  {
   "cell_type": "code",
   "execution_count": null,
   "id": "1ad5d4e7",
   "metadata": {},
   "outputs": [],
   "source": [
    "ipaddr = '35.242.174.25'#London\n",
    "port = '5000'\n",
    "mea_number = 10\n",
    "client = Client(ipaddr ,port, mea_number)\n",
    "#latancy = list(0 for j in range(0,mea_number)) \n",
    "data = client.main()\n",
    "compete_time = pd.DataFrame(data)\n",
    "compete_time.to_csv('Londan.csv')"
   ]
  },
  {
   "cell_type": "code",
   "execution_count": null,
   "id": "dc35fd8b",
   "metadata": {},
   "outputs": [],
   "source": []
  }
 ],
 "metadata": {
  "kernelspec": {
   "display_name": "Python 3",
   "language": "python",
   "name": "python3"
  },
  "language_info": {
   "codemirror_mode": {
    "name": "ipython",
    "version": 3
   },
   "file_extension": ".py",
   "mimetype": "text/x-python",
   "name": "python",
   "nbconvert_exporter": "python",
   "pygments_lexer": "ipython3",
   "version": "3.8.8"
  }
 },
 "nbformat": 4,
 "nbformat_minor": 5
}
